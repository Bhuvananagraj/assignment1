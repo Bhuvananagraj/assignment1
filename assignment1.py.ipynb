{
 "cells": [
  {
   "cell_type": "code",
   "execution_count": null,
   "id": "ffad6630",
   "metadata": {},
   "outputs": [],
   "source": [
    "# 1. In the below elements which of them are values or an expression? eg:- values can be integer or string and expressions will be mathematical operators.\n",
    "\n",
    "* --> expression\n",
    "'hello' --> value\n",
    "-87.8 --> value\n",
    "-  --> expression \n",
    "/ --> expression\n",
    "+ --> expression\n",
    "6 --> value"
   ]
  },
  {
   "cell_type": "markdown",
   "id": "48bd63b1",
   "metadata": {},
   "source": [
    "# 2. What is the difference between string and variable?\n",
    "Variable is used to store the data \n",
    "Variables are declared by writing the variable name and assigning it a value using the equals sign (=)\n",
    "\n",
    "Strings in Python are sequences of character data.\n",
    "They are created by enclosing characters in quotes.,strings are immutable which means they cannot be changed after they created\n"
   ]
  },
  {
   "cell_type": "markdown",
   "id": "0e249a9c",
   "metadata": {},
   "source": [
    "# 3. Describe three different data types.\n",
    "\n",
    "Integers: Integers are whole numbers, without a fractional component. \n",
    "They can be positive or negative.\n",
    "\n",
    "Floats: Floats represent real numbers and are written with a decimal point.\n",
    "    \n",
    "Strings: Strings in Python are sequences of character data.\n",
    "They are created by enclosing characters in quotes."
   ]
  },
  {
   "cell_type": "markdown",
   "id": "dc12381b",
   "metadata": {},
   "source": [
    "# 4. What is an expression made up of? What do all expressions do?\n",
    "\n",
    "An expression is a combination of values,variables,operators that is interpreted to produce some other value"
   ]
  },
  {
   "cell_type": "markdown",
   "id": "430f4a21",
   "metadata": {},
   "source": [
    "# 5. This assignment statements, like spam = 10. What is the difference between an expression and a statement?\n",
    "\n",
    "Expressions is a combination of values,variables,operators that is interpreted to produce some other value\n",
    "\n",
    "A statement in Python is a logical instruction that the Python interpreter can read and execute. In general, a statement performs some action or action."
   ]
  },
  {
   "cell_type": "code",
   "execution_count": 1,
   "id": "6cc99d01",
   "metadata": {},
   "outputs": [
    {
     "data": {
      "text/plain": [
       "23"
      ]
     },
     "execution_count": 1,
     "metadata": {},
     "output_type": "execute_result"
    }
   ],
   "source": [
    "# '''6. After running the following code, what does the variable bacon contain?'''\n",
    "bacon = 22\n",
    "bacon + 1\n",
    "#bacon variable contains 23"
   ]
  },
  {
   "cell_type": "code",
   "execution_count": 7,
   "id": "07842e9e",
   "metadata": {},
   "outputs": [
    {
     "data": {
      "text/plain": [
       "'spamspamspam'"
      ]
     },
     "execution_count": 7,
     "metadata": {},
     "output_type": "execute_result"
    }
   ],
   "source": [
    "#7. What should the values of the following two terms be?\n",
    "\n",
    "'spam'+'spamspam'\n"
   ]
  },
  {
   "cell_type": "code",
   "execution_count": 8,
   "id": "31f97e36",
   "metadata": {},
   "outputs": [
    {
     "data": {
      "text/plain": [
       "'spamspamspam'"
      ]
     },
     "execution_count": 8,
     "metadata": {},
     "output_type": "execute_result"
    }
   ],
   "source": [
    "'spam'*3"
   ]
  },
  {
   "cell_type": "markdown",
   "id": "9c83b539",
   "metadata": {},
   "source": [
    "# 8. Why is eggs a valid variable name while 100 is invalid?\n",
    "\n",
    "Because variable name cannot begin with a number "
   ]
  },
  {
   "cell_type": "markdown",
   "id": "9396027d",
   "metadata": {},
   "source": [
    "# 9. What three functions can be used to get the integer, floating-point number, or string version of a value?\n",
    "integer--> int()\n",
    "floating-point number-->float()\n",
    "string-->char()"
   ]
  },
  {
   "cell_type": "markdown",
   "id": "57510724",
   "metadata": {},
   "source": [
    "# '''10. Why does this expression cause an error? How can you fix it?\n",
    "'I have eaten' + 99 + 'burritos'\n",
    "it causes an error because 99 is an integer ,and only strings can be \n",
    "concatenated to other strings'''\n",
    "\n"
   ]
  },
  {
   "cell_type": "code",
   "execution_count": 2,
   "id": "bfca785a",
   "metadata": {},
   "outputs": [
    {
     "data": {
      "text/plain": [
       "'I have eaten99burritos'"
      ]
     },
     "execution_count": 2,
     "metadata": {},
     "output_type": "execute_result"
    }
   ],
   "source": [
    "\n",
    "'I have eaten' +str(99) + 'burritos'"
   ]
  }
 ],
 "metadata": {
  "kernelspec": {
   "display_name": "Python 3 (ipykernel)",
   "language": "python",
   "name": "python3"
  },
  "language_info": {
   "codemirror_mode": {
    "name": "ipython",
    "version": 3
   },
   "file_extension": ".py",
   "mimetype": "text/x-python",
   "name": "python",
   "nbconvert_exporter": "python",
   "pygments_lexer": "ipython3",
   "version": "3.10.9"
  }
 },
 "nbformat": 4,
 "nbformat_minor": 5
}
